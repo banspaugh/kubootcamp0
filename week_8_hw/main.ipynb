{
 "cells": [
  {
   "cell_type": "code",
   "execution_count": 99,
   "metadata": {},
   "outputs": [],
   "source": [
    "import json\n",
    "import tweepy\n",
    "import os\n",
    "import seaborn as sns\n",
    "import pandas as pd\n",
    "import matplotlib.pyplot as plt"
   ]
  },
  {
   "cell_type": "code",
   "execution_count": 19,
   "metadata": {
    "collapsed": true
   },
   "outputs": [],
   "source": [
    "#load your API keys\n",
    "file_name =\"C:\\\\Users\\\\spaug\\\\Python\\\\KU_Coding\\\\kubootcamp0\\\\kubootcamp0\\\\api_keys.json\"\n",
    "data = json.load(open(file_name))\n",
    "\n",
    "consumer_key = data['twitter_consumer_key']\n",
    "consumer_secret = data['twitter_consumer_secret']\n",
    "access_token = data['twitter_access_token']\n",
    "access_token_secret = data['twitter_access_token_secret']"
   ]
  },
  {
   "cell_type": "code",
   "execution_count": 20,
   "metadata": {},
   "outputs": [],
   "source": [
    "# Setup Tweepy API Authentication\n",
    "auth = tweepy.OAuthHandler(consumer_key, consumer_secret)\n",
    "auth.set_access_token(access_token, access_token_secret)\n",
    "api = tweepy.API(auth, parser=tweepy.parsers.JSONParser())"
   ]
  },
  {
   "cell_type": "code",
   "execution_count": 21,
   "metadata": {
    "collapsed": true
   },
   "outputs": [],
   "source": [
    "# Import and Initialize Sentiment Analyzer\n",
    "from vaderSentiment.vaderSentiment import SentimentIntensityAnalyzer\n",
    "analyzer = SentimentIntensityAnalyzer()"
   ]
  },
  {
   "cell_type": "code",
   "execution_count": 22,
   "metadata": {},
   "outputs": [
    {
     "data": {
      "text/plain": [
       "'VinjOvHa7v9gUou11vkvR0r3xWKZcwwTwtY5mwEnwJZwUfRYsX'"
      ]
     },
     "execution_count": 22,
     "metadata": {},
     "output_type": "execute_result"
    }
   ],
   "source": [
    "# Target User Account\n",
    "target_users = [\"@bbc\", '@cbs','@cnn', '@foxnews', '@nytimes']"
   ]
  },
  {
   "cell_type": "code",
   "execution_count": 153,
   "metadata": {},
   "outputs": [],
   "source": [
    "compound_list = []\n",
    "sn_list = []\n",
    "positive_list = []\n",
    "negative_list = []\n",
    "neutral_list = []\n",
    "date_list = []\n",
    "text_list = []\n",
    "\n",
    "# create lists of all values and symbol pairs\n",
    "for x in range(0,len(target_users)):  \n",
    "    for y in range(5): # 5 pages of tweets = 100 tweets\n",
    "        public_tweets = api.user_timeline(target_users[x], page=y)\n",
    "        for tweet in public_tweets:\n",
    "            target_string = tweet['text']\n",
    "            target_user_name = tweet['user']['screen_name']\n",
    "            compound = analyzer.polarity_scores(target_string)[\"compound\"]\n",
    "            pos = analyzer.polarity_scores(tweet['text'])[\"pos\"]\n",
    "            neu = analyzer.polarity_scores(target_string)[\"neu\"]\n",
    "            neg = analyzer.polarity_scores(target_string)[\"neg\"]\n",
    "            date = tweet['created_at']\n",
    "            compound_list.append(compound)\n",
    "            positive_list.append(pos)\n",
    "            negative_list.append(neg)\n",
    "            neutral_list.append(neu)\n",
    "            sn_list.append(target_user_name)\n",
    "            date_list.append(date)\n",
    "            text_list.append(target_string)"
   ]
  },
  {
   "cell_type": "code",
   "execution_count": 154,
   "metadata": {},
   "outputs": [],
   "source": [
    "# joining lists into dictionary then into dataframe\n",
    "values_dict = {'screen_name'  : sn_list, \n",
    "               'compound' : compound_list,\n",
    "               'positive' : positive_list,\n",
    "               'negative' : negative_list,\n",
    "               'neutral'  : neutral_list,\n",
    "               'date'     : date_list,\n",
    "               'text'     : text_list\n",
    "                }\n",
    "values_df = pd.DataFrame(values_dict)"
   ]
  },
  {
   "cell_type": "code",
   "execution_count": 217,
   "metadata": {},
   "outputs": [],
   "source": [
    "# dictionary of dataframes by screen_name\n",
    "dataframe = {}\n",
    "dataframes = {}\n",
    "news_sources = values_df.screen_name.unique()\n",
    "for x in range(0,len(news_sources)):\n",
    "    dataframe[x] = values_df[values_df['screen_name'] == news_sources[x]]\n",
    "    dataframe[x] = dataframe[x].reset_index()\n",
    "    dataframe[x] = dataframe[x].reset_index()\n",
    "    dataframes[x] = dataframe[x].iloc[:, [7,3,8,2,4,5,6]]\n",
    "    dataframes[x].to_csv(news_sources[x] + '.csv')"
   ]
  },
  {
   "cell_type": "code",
   "execution_count": 156,
   "metadata": {},
   "outputs": [
    {
     "data": {
      "text/html": [
       "<div>\n",
       "<style>\n",
       "    .dataframe thead tr:only-child th {\n",
       "        text-align: right;\n",
       "    }\n",
       "\n",
       "    .dataframe thead th {\n",
       "        text-align: left;\n",
       "    }\n",
       "\n",
       "    .dataframe tbody tr th {\n",
       "        vertical-align: top;\n",
       "    }\n",
       "</style>\n",
       "<table border=\"1\" class=\"dataframe\">\n",
       "  <thead>\n",
       "    <tr style=\"text-align: right;\">\n",
       "      <th></th>\n",
       "      <th>level_0</th>\n",
       "      <th>index</th>\n",
       "      <th>compound</th>\n",
       "      <th>date</th>\n",
       "      <th>negative</th>\n",
       "      <th>neutral</th>\n",
       "      <th>positive</th>\n",
       "      <th>screen_name</th>\n",
       "      <th>text</th>\n",
       "    </tr>\n",
       "  </thead>\n",
       "  <tbody>\n",
       "    <tr>\n",
       "      <th>0</th>\n",
       "      <td>0</td>\n",
       "      <td>0</td>\n",
       "      <td>0.0000</td>\n",
       "      <td>Fri Feb 02 20:04:03 +0000 2018</td>\n",
       "      <td>0.0</td>\n",
       "      <td>1.00</td>\n",
       "      <td>0.00</td>\n",
       "      <td>BBC</td>\n",
       "      <td>A young woman investigates the historic disapp...</td>\n",
       "    </tr>\n",
       "    <tr>\n",
       "      <th>1</th>\n",
       "      <td>1</td>\n",
       "      <td>1</td>\n",
       "      <td>0.0000</td>\n",
       "      <td>Fri Feb 02 19:32:04 +0000 2018</td>\n",
       "      <td>0.0</td>\n",
       "      <td>1.00</td>\n",
       "      <td>0.00</td>\n",
       "      <td>BBC</td>\n",
       "      <td>Tonight, @NigelSlater cooks and eats with the ...</td>\n",
       "    </tr>\n",
       "    <tr>\n",
       "      <th>2</th>\n",
       "      <td>2</td>\n",
       "      <td>2</td>\n",
       "      <td>0.0000</td>\n",
       "      <td>Fri Feb 02 19:00:07 +0000 2018</td>\n",
       "      <td>0.0</td>\n",
       "      <td>1.00</td>\n",
       "      <td>0.00</td>\n",
       "      <td>BBC</td>\n",
       "      <td>🤼 Ever heard of the Russian martial art 'Syste...</td>\n",
       "    </tr>\n",
       "    <tr>\n",
       "      <th>3</th>\n",
       "      <td>3</td>\n",
       "      <td>3</td>\n",
       "      <td>0.4588</td>\n",
       "      <td>Fri Feb 02 18:30:06 +0000 2018</td>\n",
       "      <td>0.0</td>\n",
       "      <td>0.85</td>\n",
       "      <td>0.15</td>\n",
       "      <td>BBC</td>\n",
       "      <td>🍞😋 When toast gets really tasty...\\n\\nHere are...</td>\n",
       "    </tr>\n",
       "    <tr>\n",
       "      <th>4</th>\n",
       "      <td>4</td>\n",
       "      <td>4</td>\n",
       "      <td>0.0000</td>\n",
       "      <td>Fri Feb 02 17:31:01 +0000 2018</td>\n",
       "      <td>0.0</td>\n",
       "      <td>1.00</td>\n",
       "      <td>0.00</td>\n",
       "      <td>BBC</td>\n",
       "      <td>'Oh hey............ man.'\\n\\n😂 When you run in...</td>\n",
       "    </tr>\n",
       "  </tbody>\n",
       "</table>\n",
       "</div>"
      ],
      "text/plain": [
       "   level_0  index  compound                            date  negative  \\\n",
       "0        0      0    0.0000  Fri Feb 02 20:04:03 +0000 2018       0.0   \n",
       "1        1      1    0.0000  Fri Feb 02 19:32:04 +0000 2018       0.0   \n",
       "2        2      2    0.0000  Fri Feb 02 19:00:07 +0000 2018       0.0   \n",
       "3        3      3    0.4588  Fri Feb 02 18:30:06 +0000 2018       0.0   \n",
       "4        4      4    0.0000  Fri Feb 02 17:31:01 +0000 2018       0.0   \n",
       "\n",
       "   neutral  positive screen_name  \\\n",
       "0     1.00      0.00         BBC   \n",
       "1     1.00      0.00         BBC   \n",
       "2     1.00      0.00         BBC   \n",
       "3     0.85      0.15         BBC   \n",
       "4     1.00      0.00         BBC   \n",
       "\n",
       "                                                text  \n",
       "0  A young woman investigates the historic disapp...  \n",
       "1  Tonight, @NigelSlater cooks and eats with the ...  \n",
       "2  🤼 Ever heard of the Russian martial art 'Syste...  \n",
       "3  🍞😋 When toast gets really tasty...\\n\\nHere are...  \n",
       "4  'Oh hey............ man.'\\n\\n😂 When you run in...  "
      ]
     },
     "execution_count": 156,
     "metadata": {},
     "output_type": "execute_result"
    }
   ],
   "source": [
    "dataframe[0].head()"
   ]
  },
  {
   "cell_type": "code",
   "execution_count": 167,
   "metadata": {},
   "outputs": [],
   "source": [
    "plt.style.use('ggplot')\n",
    "%matplotlib inline"
   ]
  },
  {
   "cell_type": "code",
   "execution_count": 253,
   "metadata": {},
   "outputs": [
    {
     "data": {
      "image/png": "[encoded data removed]",
      "text/plain": [
       "<matplotlib.figure.Figure at 0x1acc9a56978>"
      ]
     },
     "metadata": {},
     "output_type": "display_data"
    }
   ],
   "source": [
    "plt.figure(figsize=(6,6))\n",
    "plt.title('Sentiment Analysis of Media Tweets 2/2/2018')\n",
    "plt.scatter(dataframe[0]['level_0'], dataframe[0]['compound'], label=dataframe[0]['screen_name'][0])\n",
    "plt.scatter(dataframe[1]['level_0'], dataframe[1]['compound'], label=dataframe[1]['screen_name'][0])\n",
    "plt.scatter(dataframe[2]['level_0'], dataframe[2]['compound'], label=dataframe[2]['screen_name'][0])\n",
    "plt.scatter(dataframe[3]['level_0'], dataframe[3]['compound'], label=dataframe[3]['screen_name'][0])\n",
    "plt.scatter(dataframe[4]['level_0'], dataframe[4]['compound'], label=dataframe[4]['screen_name'][0])\n",
    "plt.legend(bbox_to_anchor=(1, 0.7), shadow=True, ncol=1, title='Media Source')\n",
    "plt.xlabel('Tweets Ago')\n",
    "plt.ylabel('Tweet Polarity')\n",
    "plt.savefig('sentiment.png', bbox_inches='tight')"
   ]
  },
  {
   "cell_type": "code",
   "execution_count": 254,
   "metadata": {},
   "outputs": [],
   "source": [
    "media_list = []\n",
    "compound_mean_list = []\n",
    "for x in range(0,len(dataframe)):\n",
    "    compound_mean_list.append(dataframe[x]['compound'].mean())\n",
    "    media_list.append(dataframe[x]['screen_name'][0])\n",
    "    "
   ]
  },
  {
   "cell_type": "code",
   "execution_count": 255,
   "metadata": {},
   "outputs": [],
   "source": [
    "compound_df = pd.DataFrame(media_list, compound_mean_list)\n",
    "compound_df = compound_df.reset_index()"
   ]
  },
  {
   "cell_type": "code",
   "execution_count": 256,
   "metadata": {},
   "outputs": [],
   "source": [
    "compound_df.columns = ['Compound Average', 'Media Source']"
   ]
  },
  {
   "cell_type": "code",
   "execution_count": 258,
   "metadata": {},
   "outputs": [
    {
     "data": {
      "image/png": "[encoded data removed]",
      "text/plain": [
       "<matplotlib.figure.Figure at 0x1accab55940>"
      ]
     },
     "metadata": {},
     "output_type": "display_data"
    }
   ],
   "source": [
    "compound_df.plot(kind='bar')\n",
    "colors = ['blue','red','green','yellow', 'purple']\n",
    "objects = ('BBC', 'CBS', 'CNN','Fox News', 'NY Times')\n",
    "y_pos = np.arange(len(objects))\n",
    "plt.bar(y_pos, compound_df['Compound Average'], align='center', alpha=0.5, color=colors)\n",
    "plt.xticks(y_pos, objects)\n",
    "plt.title('Overall Media Sentiment based on Twitter. 2/2/2018')\n",
    "plt.savefig('barchart.png')"
   ]
  },
  {
   "cell_type": "code",
   "execution_count": null,
   "metadata": {
    "collapsed": true
   },
   "outputs": [],
   "source": []
  }
 ],
 "metadata": {
  "kernelspec": {
   "display_name": "Python 3",
   "language": "python",
   "name": "python3"
  },
  "language_info": {
   "codemirror_mode": {
    "name": "ipython",
    "version": 3
   },
   "file_extension": ".py",
   "mimetype": "text/x-python",
   "name": "python",
   "nbconvert_exporter": "python",
   "pygments_lexer": "ipython3",
   "version": "3.6.3"
  }
 },
 "nbformat": 4,
 "nbformat_minor": 2
}
