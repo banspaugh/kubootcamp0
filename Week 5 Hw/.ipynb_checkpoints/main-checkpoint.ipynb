{
 "cells": [
  {
   "cell_type": "code",
   "execution_count": 2,
   "metadata": {
    "collapsed": true
   },
   "outputs": [],
   "source": [
    "import numpy as np\n",
    "import matplotlib.pyplot as plt\n",
    "import pandas as pd\n",
    "import os"
   ]
  },
  {
   "cell_type": "code",
   "execution_count": 31,
   "metadata": {
    "collapsed": true
   },
   "outputs": [],
   "source": [
    "#open files\n",
    "file_name = os.path.join(\"ride_data.csv\")\n",
    "ride_data_df = pd.read_csv(file_name)\n",
    "\n",
    "file_name1 = os.path.join(\"city_data.csv\")\n",
    "city_data_df = pd.read_csv(file_name1)"
   ]
  },
  {
   "cell_type": "code",
   "execution_count": 227,
   "metadata": {},
   "outputs": [
    {
     "data": {
      "text/html": [
       "<div>\n",
       "<style>\n",
       "    .dataframe thead tr:only-child th {\n",
       "        text-align: right;\n",
       "    }\n",
       "\n",
       "    .dataframe thead th {\n",
       "        text-align: left;\n",
       "    }\n",
       "\n",
       "    .dataframe tbody tr th {\n",
       "        vertical-align: top;\n",
       "    }\n",
       "</style>\n",
       "<table border=\"1\" class=\"dataframe\">\n",
       "  <thead>\n",
       "    <tr style=\"text-align: right;\">\n",
       "      <th></th>\n",
       "      <th>Average Fare</th>\n",
       "      <th>driver_count</th>\n",
       "      <th>type</th>\n",
       "      <th>number of rides</th>\n",
       "    </tr>\n",
       "  </thead>\n",
       "  <tbody>\n",
       "    <tr>\n",
       "      <th>Alvarezhaven</th>\n",
       "      <td>23.928710</td>\n",
       "      <td>21</td>\n",
       "      <td>Urban</td>\n",
       "      <td>31</td>\n",
       "    </tr>\n",
       "    <tr>\n",
       "      <th>Alyssaberg</th>\n",
       "      <td>20.609615</td>\n",
       "      <td>67</td>\n",
       "      <td>Urban</td>\n",
       "      <td>26</td>\n",
       "    </tr>\n",
       "    <tr>\n",
       "      <th>Anitamouth</th>\n",
       "      <td>37.315556</td>\n",
       "      <td>16</td>\n",
       "      <td>Suburban</td>\n",
       "      <td>9</td>\n",
       "    </tr>\n",
       "    <tr>\n",
       "      <th>Antoniomouth</th>\n",
       "      <td>23.625000</td>\n",
       "      <td>21</td>\n",
       "      <td>Urban</td>\n",
       "      <td>22</td>\n",
       "    </tr>\n",
       "    <tr>\n",
       "      <th>Aprilchester</th>\n",
       "      <td>21.981579</td>\n",
       "      <td>49</td>\n",
       "      <td>Urban</td>\n",
       "      <td>19</td>\n",
       "    </tr>\n",
       "  </tbody>\n",
       "</table>\n",
       "</div>"
      ],
      "text/plain": [
       "              Average Fare  driver_count      type  number of rides\n",
       "Alvarezhaven     23.928710            21     Urban               31\n",
       "Alyssaberg       20.609615            67     Urban               26\n",
       "Anitamouth       37.315556            16  Suburban                9\n",
       "Antoniomouth     23.625000            21     Urban               22\n",
       "Aprilchester     21.981579            49     Urban               19"
      ]
     },
     "execution_count": 227,
     "metadata": {},
     "output_type": "execute_result"
    }
   ],
   "source": [
    "#set index\n",
    "ride_df = pd.DataFrame(ride_data_df)\n",
    "ride_df = ride_df.set_index('city')\n",
    "city_df = pd.DataFrame(city_data_df)\n",
    "city_df = city_df.set_index('city')\n",
    "\n",
    "#bubble_data\n",
    "bubble_data = ride_df.merge(city_df,left_index=True, right_index=True)\n",
    "\n",
    "#saving copy of bubble data before continuing\n",
    "bubble_data1 = bubble_data\n",
    "\n",
    "#calculating fare average\n",
    "bubble_data = bubble_data.groupby('city')['fare'].mean()\n",
    "bubble_data = pd.DataFrame(bubble_data)\n",
    "\n",
    "#adding dataframes\n",
    "bubble_data = bubble_data.merge(city_df, left_index=True, right_index=True)\n",
    "bubble_data.columns = ['Average Fare', 'driver_count','type']\n",
    "\n",
    "#adding # of rides\n",
    "bubble_data2 = pd.DataFrame(bubble_data1.index.value_counts())\n",
    "bubble_data2.columns = ['number of rides']\n",
    "bubble_data = bubble_data.merge(bubble_data2, left_index=True, right_index=True)\n",
    "\n",
    "#without fare average\n",
    "bubble_data1.head()\n",
    "\n",
    "#with fare average\n",
    "bubble_data.head()"
   ]
  },
  {
   "cell_type": "code",
   "execution_count": 223,
   "metadata": {},
   "outputs": [],
   "source": [
    "#separating by type\n",
    "urban_df = bubble_data.loc[bubble_data['type'] == 'Urban']\n",
    "suburban_df = bubble_data.loc[bubble_data['type'] == 'Suburban']\n",
    "rural_df = bubble_data.loc[bubble_data['type'] == 'Rural']\n"
   ]
  },
  {
   "cell_type": "code",
   "execution_count": 222,
   "metadata": {},
   "outputs": [
    {
     "data": {
      "image/png": "[encoded data removed]",
      "text/plain": [
       "<matplotlib.figure.Figure at 0x1e17c8bc080>"
      ]
     },
     "metadata": {},
     "output_type": "display_data"
    }
   ],
   "source": [
    "#scatter plot\n",
    "plt.style.use('ggplot')\n",
    "plt.scatter(urban_df['number of rides'], urban_df['Average Fare'], s=urban_df['driver_count']*5, alpha=.8, lw=1,edgecolor='black');\n",
    "plt.scatter(suburban_df['number of rides'], suburban_df['Average Fare'], s=suburban_df['driver_count']*5, alpha=.8, lw=1, edgecolor='black');\n",
    "plt.scatter(rural_df['number of rides'], rural_df['Average Fare'], s=rural_df['driver_count']*5, alpha=.8, lw=1, edgecolor='black', facecolor='yellow');\n",
    "plt.ylim(15,45)\n",
    "plt.xlim(0,40)\n",
    "\n",
    "\n",
    "\n",
    "#need to know why adding title creates 2nd chart\n",
    "# plt.title('Pyber Ride Sharing Data 2016')\n",
    "# plt.figure(figsize=(7,8))\n",
    "plt.show()"
   ]
  },
  {
   "cell_type": "code",
   "execution_count": 243,
   "metadata": {},
   "outputs": [
    {
     "data": {
      "image/png": "[encoded data removed]",
      "text/plain": [
       "<matplotlib.figure.Figure at 0x1e17c5e0828>"
      ]
     },
     "metadata": {},
     "output_type": "display_data"
    },
    {
     "data": {
      "text/html": [
       "<div>\n",
       "<style>\n",
       "    .dataframe thead tr:only-child th {\n",
       "        text-align: right;\n",
       "    }\n",
       "\n",
       "    .dataframe thead th {\n",
       "        text-align: left;\n",
       "    }\n",
       "\n",
       "    .dataframe tbody tr th {\n",
       "        vertical-align: top;\n",
       "    }\n",
       "</style>\n",
       "<table border=\"1\" class=\"dataframe\">\n",
       "  <thead>\n",
       "    <tr style=\"text-align: right;\">\n",
       "      <th></th>\n",
       "      <th>Fare Total</th>\n",
       "    </tr>\n",
       "    <tr>\n",
       "      <th>type</th>\n",
       "      <th></th>\n",
       "    </tr>\n",
       "  </thead>\n",
       "  <tbody>\n",
       "    <tr>\n",
       "      <th>Rural</th>\n",
       "      <td>4255.09</td>\n",
       "    </tr>\n",
       "    <tr>\n",
       "      <th>Suburban</th>\n",
       "      <td>20335.69</td>\n",
       "    </tr>\n",
       "    <tr>\n",
       "      <th>Urban</th>\n",
       "      <td>40078.34</td>\n",
       "    </tr>\n",
       "  </tbody>\n",
       "</table>\n",
       "</div>"
      ],
      "text/plain": [
       "          Fare Total\n",
       "type                \n",
       "Rural        4255.09\n",
       "Suburban    20335.69\n",
       "Urban       40078.34"
      ]
     },
     "execution_count": 243,
     "metadata": {},
     "output_type": "execute_result"
    }
   ],
   "source": [
    "fare_total = bubble_data1.groupby('type')['fare'].sum()\n",
    "fare_total = pd.DataFrame(fare_total)\n",
    "fare_total.columns = ['Fare Total']\n",
    "fare_total1 = plt.pie(fare_total)\n",
    "plt.show()\n",
    "fare_total"
   ]
  },
  {
   "cell_type": "code",
   "execution_count": 242,
   "metadata": {},
   "outputs": [
    {
     "data": {
      "text/html": [
       "<div>\n",
       "<style>\n",
       "    .dataframe thead tr:only-child th {\n",
       "        text-align: right;\n",
       "    }\n",
       "\n",
       "    .dataframe thead th {\n",
       "        text-align: left;\n",
       "    }\n",
       "\n",
       "    .dataframe tbody tr th {\n",
       "        vertical-align: top;\n",
       "    }\n",
       "</style>\n",
       "<table border=\"1\" class=\"dataframe\">\n",
       "  <thead>\n",
       "    <tr style=\"text-align: right;\">\n",
       "      <th></th>\n",
       "      <th>Total Rides</th>\n",
       "    </tr>\n",
       "    <tr>\n",
       "      <th>type</th>\n",
       "      <th></th>\n",
       "    </tr>\n",
       "  </thead>\n",
       "  <tbody>\n",
       "    <tr>\n",
       "      <th>Rural</th>\n",
       "      <td>125</td>\n",
       "    </tr>\n",
       "    <tr>\n",
       "      <th>Suburban</th>\n",
       "      <td>657</td>\n",
       "    </tr>\n",
       "    <tr>\n",
       "      <th>Urban</th>\n",
       "      <td>1625</td>\n",
       "    </tr>\n",
       "  </tbody>\n",
       "</table>\n",
       "</div>"
      ],
      "text/plain": [
       "          Total Rides\n",
       "type                 \n",
       "Rural             125\n",
       "Suburban          657\n",
       "Urban            1625"
      ]
     },
     "execution_count": 242,
     "metadata": {},
     "output_type": "execute_result"
    },
    {
     "data": {
      "image/png": "[encoded data removed]",
      "text/plain": [
       "<matplotlib.figure.Figure at 0x1e17ab7b390>"
      ]
     },
     "metadata": {},
     "output_type": "display_data"
    }
   ],
   "source": [
    "rides_total = bubble_data1.groupby('type')['ride_id'].count()\n",
    "rides_total = pd.DataFrame(rides_total)\n",
    "rides_total.columns = ['Total Rides']\n",
    "rides_total1 = plt.pie(rides_total)\n",
    "rides_total"
   ]
  },
  {
   "cell_type": "code",
   "execution_count": 246,
   "metadata": {},
   "outputs": [
    {
     "data": {
      "text/html": [
       "<div>\n",
       "<style>\n",
       "    .dataframe thead tr:only-child th {\n",
       "        text-align: right;\n",
       "    }\n",
       "\n",
       "    .dataframe thead th {\n",
       "        text-align: left;\n",
       "    }\n",
       "\n",
       "    .dataframe tbody tr th {\n",
       "        vertical-align: top;\n",
       "    }\n",
       "</style>\n",
       "<table border=\"1\" class=\"dataframe\">\n",
       "  <thead>\n",
       "    <tr style=\"text-align: right;\">\n",
       "      <th></th>\n",
       "      <th>Total Drivers</th>\n",
       "    </tr>\n",
       "    <tr>\n",
       "      <th>type</th>\n",
       "      <th></th>\n",
       "    </tr>\n",
       "  </thead>\n",
       "  <tbody>\n",
       "    <tr>\n",
       "      <th>Rural</th>\n",
       "      <td>727</td>\n",
       "    </tr>\n",
       "    <tr>\n",
       "      <th>Suburban</th>\n",
       "      <td>9730</td>\n",
       "    </tr>\n",
       "    <tr>\n",
       "      <th>Urban</th>\n",
       "      <td>64501</td>\n",
       "    </tr>\n",
       "  </tbody>\n",
       "</table>\n",
       "</div>"
      ],
      "text/plain": [
       "          Total Drivers\n",
       "type                   \n",
       "Rural               727\n",
       "Suburban           9730\n",
       "Urban             64501"
      ]
     },
     "execution_count": 246,
     "metadata": {},
     "output_type": "execute_result"
    },
    {
     "data": {
      "image/png": "[encoded data removed]",
      "text/plain": [
       "<matplotlib.figure.Figure at 0x1e17c85d6d8>"
      ]
     },
     "metadata": {},
     "output_type": "display_data"
    }
   ],
   "source": [
    "driver_total = bubble_data1.groupby('type')['driver_count'].sum()\n",
    "driver_total = pd.DataFrame(driver_total)\n",
    "driver_total.columns = ['Total Drivers']\n",
    "driver_total1 = plt.pie(driver_total)\n",
    "driver_total"
   ]
  },
  {
   "cell_type": "code",
   "execution_count": null,
   "metadata": {
    "collapsed": true
   },
   "outputs": [],
   "source": []
  }
 ],
 "metadata": {
  "kernelspec": {
   "display_name": "Python 3",
   "language": "python",
   "name": "python3"
  },
  "language_info": {
   "codemirror_mode": {
    "name": "ipython",
    "version": 3
   },
   "file_extension": ".py",
   "mimetype": "text/x-python",
   "name": "python",
   "nbconvert_exporter": "python",
   "pygments_lexer": "ipython3",
   "version": "3.6.3"
  }
 },
 "nbformat": 4,
 "nbformat_minor": 2
}
