{
 "cells": [
  {
   "cell_type": "markdown",
   "metadata": {
    "collapsed": true
   },
   "source": [
    "import matplotlib.pyplot as plt\n",
    "import pandas as pd\n",
    "import os\n",
    "import seaborn as sns"
   ]
  },
  {
   "cell_type": "markdown",
   "metadata": {
    "collapsed": true
   },
   "source": [
    "#open files\n",
    "file_name = os.path.join(\"ride_data.csv\")\n",
    "ride_data_df = pd.read_csv(file_name)\n",
    "\n",
    "file_name1 = os.path.join(\"city_data.csv\")\n",
    "city_data_df = pd.read_csv(file_name1)"
   ]
  },
  {
   "cell_type": "markdown",
   "metadata": {
    "collapsed": true
   },
   "source": [
    "#create dataframe & set index\n",
    "ride_df = pd.DataFrame(ride_data_df)\n",
    "ride_df = ride_df.set_index('city')\n",
    "city_df = pd.DataFrame(city_data_df)\n",
    "city_df = city_df.set_index('city')\n",
    "\n",
    "#bubble_data\n",
    "bubble_data = ride_df.merge(city_df,left_index=True, right_index=True)\n",
    "\n",
    "#saving copy of bubble data before continuing\n",
    "bubble_data1 = bubble_data\n",
    "\n",
    "#calculating fare average\n",
    "bubble_data = bubble_data.groupby('city')['fare'].mean()\n",
    "bubble_data = pd.DataFrame(bubble_data)\n",
    "\n",
    "#adding dataframes\n",
    "bubble_data = bubble_data.merge(city_df, left_index=True, right_index=True)\n",
    "bubble_data.columns = ['Average Fare', 'driver_count','type']\n",
    "\n",
    "#adding # of rides\n",
    "bubble_data2 = pd.DataFrame(bubble_data1.index.value_counts())\n",
    "bubble_data2.columns = ['number of rides']\n",
    "bubble_data = bubble_data.merge(bubble_data2, left_index=True, right_index=True)\n",
    "\n",
    "#without fare average\n",
    "bubble_data1.head()\n",
    "\n",
    "#with fare average\n",
    "bubble_data.head()"
   ]
  },
  {
   "cell_type": "markdown",
   "metadata": {
    "collapsed": true
   },
   "source": [
    "#separating by type\n",
    "urban_df = bubble_data.loc[bubble_data['type'] == 'Urban']\n",
    "suburban_df = bubble_data.loc[bubble_data['type'] == 'Suburban']\n",
    "rural_df = bubble_data.loc[bubble_data['type'] == 'Rural']"
   ]
  },
  {
   "cell_type": "markdown",
   "metadata": {},
   "source": [
    "#scatter plot\n",
    "plt.scatter(urban_df['number of rides'], urban_df['Average Fare'], s=urban_df['driver_count']*5, alpha=.8, lw=1,edgecolor='black', facecolor='lightcoral');\n",
    "plt.scatter(suburban_df['number of rides'], suburban_df['Average Fare'], s=suburban_df['driver_count']*5, alpha=.8, lw=1, edgecolor='black', facecolor='lightskyblue');\n",
    "plt.scatter(rural_df['number of rides'], rural_df['Average Fare'], s=rural_df['driver_count']*5, alpha=.8, lw=1, edgecolor='black', facecolor='gold');\n",
    "\n",
    "#labels and styling\n",
    "sns.set_style(\"darkgrid\")\n",
    "plt.ylim(15,45)\n",
    "plt.xlim(0,35)\n",
    "plt.xlabel('Total Number of Rides (Per City)')\n",
    "plt.ylabel('Average Fare ($)')\n",
    "plt.title('Pyber Ride Sharing Data 2016')\n",
    "\n",
    "#legend\n",
    "L=plt.legend(loc=\"upper right\", fancybox=True, title='City Types')\n",
    "L.get_texts()[0].set_text('Urban')\n",
    "L.get_texts()[1].set_text('Suburban')\n",
    "L.get_texts()[2].set_text('Rural')\n",
    "\n",
    "plt.show()"
   ]
  },
  {
   "cell_type": "markdown",
   "metadata": {},
   "source": [
    "labels=['Rural', 'Suburban','Urban']\n",
    "colors=['Gold','lightskyblue','lightcoral']\n",
    "explode = (.05, 0.05, 0)\n",
    "\n",
    "#pie data\n",
    "fare_total = bubble_data1.groupby('type')['fare'].sum()\n",
    "fare_total = pd.DataFrame(fare_total)\n",
    "fare_total.columns = ['Fare Total']\n",
    "\n",
    "#chart\n",
    "fare_total1 = plt.pie(fare_total, labels=labels, shadow=True,startangle=90, explode=explode, colors=colors, autopct='%1.0f%%')\n",
    "plt.title(\"% of Total Fares by City Type\")\n",
    "\n",
    "plt.show()"
   ]
  },
  {
   "cell_type": "markdown",
   "metadata": {},
   "source": [
    "#chart data\n",
    "rides_total = bubble_data1.groupby('type')['ride_id'].count()\n",
    "rides_total = pd.DataFrame(rides_total)\n",
    "rides_total.columns = ['Total Rides']\n",
    "\n",
    "#pie chart\n",
    "rides_total1 = plt.pie(rides_total, labels=labels, shadow=True,startangle=90, explode=explode, colors=colors, autopct='%1.0f%%')\n",
    "plt.title(\"% of Total Rides by City Type\")\n",
    "plt.show()"
   ]
  },
  {
   "cell_type": "markdown",
   "metadata": {},
   "source": [
    "driver_total = bubble_data1.groupby('type')['driver_count'].sum()\n",
    "driver_total = pd.DataFrame(driver_total)\n",
    "driver_total.columns = ['Total Drivers']\n",
    "\n",
    "driver_total1 = plt.pie(driver_total, labels=labels, shadow=True,startangle=90, explode=explode, colors=colors, autopct='%1.0f%%')\n",
    "plt.title(\"% of Total Drivers by City Type\")\n",
    "\n",
    "plt.show()"
   ]
  },
  {
   "cell_type": "markdown",
   "metadata": {},
   "source": [
    "# Observable Trends"
   ]
  },
  {
   "cell_type": "markdown",
   "metadata": {},
   "source": [
    "A big takeaway from the bubble chart is that as the number of rides per city increases, the average fare price goes down. This correlates with the population density of each city type. Rural areas have the lowest population density of the three and have the highest fare prices. While urban areas have the highest population density and the lowest fare prices. So the higher the population density, the less space you have to travel to get to where you are going.\n",
    "\n",
    "\n",
    "The Urban city type uses taxis the most by a long shot. They account for 68% of the totals rides given, and have the highest population of taxi drivers. People who live in cities are more likely to take a taxi than in other areas.\n",
    "\n",
    "\n",
    "Only 1% of the taxi drivers are in the rural area. This is because the demand is so low for taxi rides out in the country. The demand for suburban taxi drivers is not particularly high either, however surburban areas do make up a little less than 30% of the total rides and fares."
   ]
  }
 ],
 "metadata": {
  "kernelspec": {
   "display_name": "Python 3",
   "language": "python",
   "name": "python3"
  },
  "language_info": {
   "codemirror_mode": {
    "name": "ipython",
    "version": 3
   },
   "file_extension": ".py",
   "mimetype": "text/x-python",
   "name": "python",
   "nbconvert_exporter": "python",
   "pygments_lexer": "ipython3",
   "version": "3.6.3"
  }
 },
 "nbformat": 4,
 "nbformat_minor": 2
}
