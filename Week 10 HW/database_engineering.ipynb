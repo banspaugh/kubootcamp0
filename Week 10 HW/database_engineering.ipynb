{
 "cells": [
  {
   "cell_type": "code",
   "execution_count": 1,
   "metadata": {
    "collapsed": true
   },
   "outputs": [],
   "source": [
    "import os\n",
    "import pandas as pd\n",
    "from sqlalchemy import create_engine\n",
    "import pymysql\n",
    "from sqlalchemy.ext.declarative import declarative_base\n",
    "Base = declarative_base()\n",
    "from sqlalchemy import Column, Integer, String, Float\n",
    "from warnings import filterwarnings\n",
    "filterwarnings('ignore', category=pymysql.Warning)"
   ]
  },
  {
   "cell_type": "code",
   "execution_count": 2,
   "metadata": {
    "collapsed": true
   },
   "outputs": [],
   "source": [
    "file_name1 = os.path.join(\"clean_hawaii_measurements.csv\")\n",
    "file_name2= os.path.join(\"clean_hawaii_stations.csv\")\n",
    "measurements_df = pd.read_csv(file_name1)\n",
    "stations_df = pd.read_csv(file_name2)"
   ]
  },
  {
   "cell_type": "code",
   "execution_count": 3,
   "metadata": {
    "collapsed": true
   },
   "outputs": [],
   "source": [
    "engine = create_engine('sqlite:///database/hawaii.sqlite')\n",
    "from sqlalchemy.orm import Session\n",
    "session = Session(bind=engine)"
   ]
  },
  {
   "cell_type": "code",
   "execution_count": 4,
   "metadata": {
    "collapsed": true
   },
   "outputs": [],
   "source": [
    "class measurements(Base):\n",
    "    __tablename__ = 'measurements'\n",
    "    measurement_id = Column(Integer, primary_key=True)\n",
    "    station = Column(String(255))\n",
    "    date = Column(String(255))\n",
    "    prcp = Column(Float)\n",
    "    tobs = Column(Float)\n",
    "\n",
    "class stations(Base):\n",
    "    __tablename__ = 'stations'\n",
    "    id = Column(Integer, primary_key=True)\n",
    "    station = Column(String(255))\n",
    "    name = Column(String(255))\n",
    "    latitude = Column(Float)\n",
    "    longitude = Column(Float)\n",
    "    elevation = Column(Float)"
   ]
  },
  {
   "cell_type": "code",
   "execution_count": 5,
   "metadata": {
    "collapsed": true
   },
   "outputs": [],
   "source": [
    "Base.metadata.create_all(engine)"
   ]
  },
  {
   "cell_type": "code",
   "execution_count": 6,
   "metadata": {
    "collapsed": true
   },
   "outputs": [],
   "source": [
    "id = {}\n",
    "station1s = {}\n",
    "names = {}\n",
    "latitudes = {}\n",
    "longitudes = {}\n",
    "elevations = {}\n",
    "for x in range(0,len(stations_df)):\n",
    "    station1s[x] = stations_df.iloc[x,1]\n",
    "    names[x] = stations_df.iloc[x,2]\n",
    "    latitudes[x] = stations_df.iloc[x,3]\n",
    "    longitudes[x] = stations_df.iloc[x,4]\n",
    "    elevations[x] = stations_df.iloc[x,5]"
   ]
  },
  {
   "cell_type": "code",
   "execution_count": 7,
   "metadata": {
    "collapsed": true
   },
   "outputs": [],
   "source": [
    "stations2 = {}\n",
    "date = {}\n",
    "prcp = {}\n",
    "tobs = {}\n",
    "for x in range(0,len(measurements_df)):\n",
    "    stations2[x] = measurements_df.iloc[x,1]\n",
    "    date[x] = measurements_df.iloc[x,2]\n",
    "    prcp[x] = measurements_df.iloc[x,3]\n",
    "    tobs[x] = measurements_df.iloc[x,4]"
   ]
  },
  {
   "cell_type": "code",
   "execution_count": 8,
   "metadata": {
    "collapsed": true
   },
   "outputs": [],
   "source": [
    "for x in range(0,len(measurements_df)):\n",
    "    measurement = measurements(\n",
    "        station=stations2[x], \n",
    "        date=date[x], \n",
    "        prcp=prcp[x], \n",
    "        tobs=tobs[x])\n",
    "    session.add(measurement)\n",
    "session.commit()"
   ]
  },
  {
   "cell_type": "code",
   "execution_count": 9,
   "metadata": {
    "collapsed": true
   },
   "outputs": [],
   "source": [
    "for x in range(0, len(stations_df)):\n",
    "    station2 = stations(\n",
    "                        station=station1s[x],\n",
    "                        latitude=latitudes[x],\n",
    "                        longitude=longitudes[x],\n",
    "                        elevation=elevations[x]\n",
    "    )\n",
    "    session.add(station2)\n",
    "session.commit()"
   ]
  },
  {
   "cell_type": "code",
   "execution_count": null,
   "metadata": {},
   "outputs": [],
   "source": [
    "type(stations)"
   ]
  },
  {
   "cell_type": "code",
   "execution_count": null,
   "metadata": {
    "collapsed": true
   },
   "outputs": [],
   "source": []
  }
 ],
 "metadata": {
  "kernelspec": {
   "display_name": "Python 3",
   "language": "python",
   "name": "python3"
  },
  "language_info": {
   "codemirror_mode": {
    "name": "ipython",
    "version": 3
   },
   "file_extension": ".py",
   "mimetype": "text/x-python",
   "name": "python",
   "nbconvert_exporter": "python",
   "pygments_lexer": "ipython3",
   "version": "3.6.3"
  }
 },
 "nbformat": 4,
 "nbformat_minor": 2
}
